{
 "cells": [
  {
   "cell_type": "code",
   "execution_count": 6,
   "id": "225cd3b6",
   "metadata": {
    "scrolled": true
   },
   "outputs": [
    {
     "name": "stdout",
     "output_type": "stream",
     "text": [
      "src/\n",
      "├─plotting_functions.py\n",
      "├─config.json\n",
      "├─model_training.py\n",
      "├─data_loader.py\n",
      "├─utils/\n",
      "│ ├─config.py\n",
      "│ └─args.py\n",
      "├─model.py\n",
      "├─trainer.py\n",
      "└─main.py\n"
     ]
    }
   ],
   "source": [
    "import seedir as sd\n",
    "sd.seedir(\"../src\", style='lines', itemlimit=10, depthlimit=2, exclude_folders=\"__pycache__\")"
   ]
  },
  {
   "cell_type": "code",
   "execution_count": null,
   "id": "ca3a6f16",
   "metadata": {},
   "outputs": [],
   "source": []
  }
 ],
 "metadata": {
  "kernelspec": {
   "display_name": "Python 3",
   "language": "python",
   "name": "python3"
  },
  "language_info": {
   "codemirror_mode": {
    "name": "ipython",
    "version": 3
   },
   "file_extension": ".py",
   "mimetype": "text/x-python",
   "name": "python",
   "nbconvert_exporter": "python",
   "pygments_lexer": "ipython3",
   "version": "3.7.9"
  }
 },
 "nbformat": 4,
 "nbformat_minor": 5
}
